{
 "cells": [
  {
   "cell_type": "code",
   "execution_count": 1,
   "metadata": {
    "scrolled": true
   },
   "outputs": [
    {
     "name": "stdout",
     "output_type": "stream",
     "text": [
      "Requirement already satisfied: yfinance in c:\\users\\ddimucci\\anaconda3\\lib\\site-packages (0.1.64)\n",
      "Requirement already satisfied: pandas>=0.24 in c:\\users\\ddimucci\\anaconda3\\lib\\site-packages (from yfinance) (1.1.3)\n",
      "Requirement already satisfied: numpy>=1.15 in c:\\users\\ddimucci\\anaconda3\\lib\\site-packages (from yfinance) (1.19.2)\n",
      "Requirement already satisfied: lxml>=4.5.1 in c:\\users\\ddimucci\\anaconda3\\lib\\site-packages (from yfinance) (4.6.1)\n",
      "Requirement already satisfied: multitasking>=0.0.7 in c:\\users\\ddimucci\\anaconda3\\lib\\site-packages (from yfinance) (0.0.9)\n",
      "Requirement already satisfied: requests>=2.20 in c:\\users\\ddimucci\\anaconda3\\lib\\site-packages (from yfinance) (2.24.0)\n",
      "Requirement already satisfied: python-dateutil>=2.7.3 in c:\\users\\ddimucci\\anaconda3\\lib\\site-packages (from pandas>=0.24->yfinance) (2.8.1)\n",
      "Requirement already satisfied: pytz>=2017.2 in c:\\users\\ddimucci\\anaconda3\\lib\\site-packages (from pandas>=0.24->yfinance) (2020.1)\n",
      "Requirement already satisfied: idna<3,>=2.5 in c:\\users\\ddimucci\\anaconda3\\lib\\site-packages (from requests>=2.20->yfinance) (2.10)\n",
      "Requirement already satisfied: chardet<4,>=3.0.2 in c:\\users\\ddimucci\\anaconda3\\lib\\site-packages (from requests>=2.20->yfinance) (3.0.4)\n",
      "Requirement already satisfied: certifi>=2017.4.17 in c:\\users\\ddimucci\\anaconda3\\lib\\site-packages (from requests>=2.20->yfinance) (2020.6.20)\n",
      "Requirement already satisfied: urllib3!=1.25.0,!=1.25.1,<1.26,>=1.21.1 in c:\\users\\ddimucci\\anaconda3\\lib\\site-packages (from requests>=2.20->yfinance) (1.25.11)\n",
      "Requirement already satisfied: six>=1.5 in c:\\users\\ddimucci\\anaconda3\\lib\\site-packages (from python-dateutil>=2.7.3->pandas>=0.24->yfinance) (1.15.0)\n",
      "Requirement already satisfied: fredapi in c:\\users\\ddimucci\\anaconda3\\lib\\site-packages (0.4.3)\n",
      "Requirement already satisfied: pandas in c:\\users\\ddimucci\\anaconda3\\lib\\site-packages (from fredapi) (1.1.3)\n",
      "Requirement already satisfied: python-dateutil>=2.7.3 in c:\\users\\ddimucci\\anaconda3\\lib\\site-packages (from pandas->fredapi) (2.8.1)\n",
      "Requirement already satisfied: pytz>=2017.2 in c:\\users\\ddimucci\\anaconda3\\lib\\site-packages (from pandas->fredapi) (2020.1)\n",
      "Requirement already satisfied: numpy>=1.15.4 in c:\\users\\ddimucci\\anaconda3\\lib\\site-packages (from pandas->fredapi) (1.19.2)\n",
      "Requirement already satisfied: six>=1.5 in c:\\users\\ddimucci\\anaconda3\\lib\\site-packages (from python-dateutil>=2.7.3->pandas->fredapi) (1.15.0)\n"
     ]
    }
   ],
   "source": [
    "# Install a pip package in the current Jupyter kernel\n",
    "import sys\n",
    "!{sys.executable} -m pip install yfinance\n",
    "!{sys.executable} -m pip install fredapi"
   ]
  },
  {
   "cell_type": "code",
   "execution_count": 93,
   "metadata": {},
   "outputs": [],
   "source": [
    "import yfinance as yf\n",
    "import pandas as pd\n",
    "import numpy as np\n",
    "import matplotlib.pyplot as plt\n",
    "import datetime\n",
    "import warnings\n",
    "import seaborn as sns; sns.set()\n",
    "import statsmodels as sm\n",
    "\n",
    "from fredapi import Fred\n",
    "\n",
    "warnings.filterwarnings('ignore')\n",
    "plt.style.use('seaborn')"
   ]
  },
  {
   "cell_type": "code",
   "execution_count": 15,
   "metadata": {},
   "outputs": [
    {
     "name": "stdout",
     "output_type": "stream",
     "text": [
      "[*********************100%***********************]  5 of 5 completed\n"
     ]
    }
   ],
   "source": [
    "stock = ['^GSPC','AAPL','MSFT','INTC','IBM']\n",
    "start = datetime.datetime(2020,12,31)\n",
    "end = datetime.datetime(2021,4,2)\n",
    "SP = yf.download(stock,start=start,end = end, interval='1d')\n",
    "SP_close=SP['Close']\n",
    "SP"
   ]
  },
  {
   "cell_type": "code",
   "execution_count": 17,
   "metadata": {},
   "outputs": [
    {
     "data": {
      "text/html": [
       "<div>\n",
       "<style scoped>\n",
       "    .dataframe tbody tr th:only-of-type {\n",
       "        vertical-align: middle;\n",
       "    }\n",
       "\n",
       "    .dataframe tbody tr th {\n",
       "        vertical-align: top;\n",
       "    }\n",
       "\n",
       "    .dataframe thead tr th {\n",
       "        text-align: left;\n",
       "    }\n",
       "\n",
       "    .dataframe thead tr:last-of-type th {\n",
       "        text-align: right;\n",
       "    }\n",
       "</style>\n",
       "<table border=\"1\" class=\"dataframe\">\n",
       "  <thead>\n",
       "    <tr>\n",
       "      <th></th>\n",
       "      <th colspan=\"5\" halign=\"left\">Adj Close</th>\n",
       "      <th colspan=\"5\" halign=\"left\">Close</th>\n",
       "      <th>...</th>\n",
       "      <th colspan=\"5\" halign=\"left\">Open</th>\n",
       "      <th colspan=\"5\" halign=\"left\">Volume</th>\n",
       "    </tr>\n",
       "    <tr>\n",
       "      <th></th>\n",
       "      <th>AAPL</th>\n",
       "      <th>IBM</th>\n",
       "      <th>INTC</th>\n",
       "      <th>MSFT</th>\n",
       "      <th>^GSPC</th>\n",
       "      <th>AAPL</th>\n",
       "      <th>IBM</th>\n",
       "      <th>INTC</th>\n",
       "      <th>MSFT</th>\n",
       "      <th>^GSPC</th>\n",
       "      <th>...</th>\n",
       "      <th>AAPL</th>\n",
       "      <th>IBM</th>\n",
       "      <th>INTC</th>\n",
       "      <th>MSFT</th>\n",
       "      <th>^GSPC</th>\n",
       "      <th>AAPL</th>\n",
       "      <th>IBM</th>\n",
       "      <th>INTC</th>\n",
       "      <th>MSFT</th>\n",
       "      <th>^GSPC</th>\n",
       "    </tr>\n",
       "    <tr>\n",
       "      <th>Date</th>\n",
       "      <th></th>\n",
       "      <th></th>\n",
       "      <th></th>\n",
       "      <th></th>\n",
       "      <th></th>\n",
       "      <th></th>\n",
       "      <th></th>\n",
       "      <th></th>\n",
       "      <th></th>\n",
       "      <th></th>\n",
       "      <th></th>\n",
       "      <th></th>\n",
       "      <th></th>\n",
       "      <th></th>\n",
       "      <th></th>\n",
       "      <th></th>\n",
       "      <th></th>\n",
       "      <th></th>\n",
       "      <th></th>\n",
       "      <th></th>\n",
       "      <th></th>\n",
       "    </tr>\n",
       "  </thead>\n",
       "  <tbody>\n",
       "    <tr>\n",
       "      <th>2020-12-31</th>\n",
       "      <td>131.877014</td>\n",
       "      <td>114.579292</td>\n",
       "      <td>48.560837</td>\n",
       "      <td>220.974640</td>\n",
       "      <td>3756.070068</td>\n",
       "      <td>132.690002</td>\n",
       "      <td>120.344170</td>\n",
       "      <td>49.820000</td>\n",
       "      <td>222.419998</td>\n",
       "      <td>3756.070068</td>\n",
       "      <td>...</td>\n",
       "      <td>134.080002</td>\n",
       "      <td>118.757172</td>\n",
       "      <td>48.750000</td>\n",
       "      <td>221.699997</td>\n",
       "      <td>3733.270020</td>\n",
       "      <td>99116600</td>\n",
       "      <td>3738822</td>\n",
       "      <td>28576800</td>\n",
       "      <td>20942100</td>\n",
       "      <td>3172510000</td>\n",
       "    </tr>\n",
       "    <tr>\n",
       "      <th>2021-01-04</th>\n",
       "      <td>128.617111</td>\n",
       "      <td>112.813454</td>\n",
       "      <td>48.414623</td>\n",
       "      <td>216.275375</td>\n",
       "      <td>3700.649902</td>\n",
       "      <td>129.410004</td>\n",
       "      <td>118.489487</td>\n",
       "      <td>49.669998</td>\n",
       "      <td>217.690002</td>\n",
       "      <td>3700.649902</td>\n",
       "      <td>...</td>\n",
       "      <td>133.520004</td>\n",
       "      <td>120.315491</td>\n",
       "      <td>49.889999</td>\n",
       "      <td>222.529999</td>\n",
       "      <td>3764.610107</td>\n",
       "      <td>143301900</td>\n",
       "      <td>5417443</td>\n",
       "      <td>46102500</td>\n",
       "      <td>37130100</td>\n",
       "      <td>5006680000</td>\n",
       "    </tr>\n",
       "    <tr>\n",
       "      <th>2021-01-05</th>\n",
       "      <td>130.207306</td>\n",
       "      <td>114.815964</td>\n",
       "      <td>49.330868</td>\n",
       "      <td>216.484009</td>\n",
       "      <td>3726.860107</td>\n",
       "      <td>131.009995</td>\n",
       "      <td>120.592735</td>\n",
       "      <td>50.610001</td>\n",
       "      <td>217.899994</td>\n",
       "      <td>3726.860107</td>\n",
       "      <td>...</td>\n",
       "      <td>128.889999</td>\n",
       "      <td>119.512428</td>\n",
       "      <td>49.450001</td>\n",
       "      <td>217.259995</td>\n",
       "      <td>3698.020020</td>\n",
       "      <td>97664900</td>\n",
       "      <td>6395872</td>\n",
       "      <td>24866600</td>\n",
       "      <td>23823000</td>\n",
       "      <td>4582620000</td>\n",
       "    </tr>\n",
       "    <tr>\n",
       "      <th>2021-01-06</th>\n",
       "      <td>125.824326</td>\n",
       "      <td>117.683174</td>\n",
       "      <td>49.808479</td>\n",
       "      <td>210.870728</td>\n",
       "      <td>3748.139893</td>\n",
       "      <td>126.599998</td>\n",
       "      <td>123.604210</td>\n",
       "      <td>51.099998</td>\n",
       "      <td>212.250000</td>\n",
       "      <td>3748.139893</td>\n",
       "      <td>...</td>\n",
       "      <td>127.720001</td>\n",
       "      <td>121.319313</td>\n",
       "      <td>50.439999</td>\n",
       "      <td>212.169998</td>\n",
       "      <td>3712.199951</td>\n",
       "      <td>155088000</td>\n",
       "      <td>8322708</td>\n",
       "      <td>36809600</td>\n",
       "      <td>35930700</td>\n",
       "      <td>6049970000</td>\n",
       "    </tr>\n",
       "    <tr>\n",
       "      <th>2021-01-07</th>\n",
       "      <td>130.117844</td>\n",
       "      <td>117.410103</td>\n",
       "      <td>50.870930</td>\n",
       "      <td>216.871475</td>\n",
       "      <td>3803.790039</td>\n",
       "      <td>130.919998</td>\n",
       "      <td>123.317398</td>\n",
       "      <td>52.189999</td>\n",
       "      <td>218.289993</td>\n",
       "      <td>3803.790039</td>\n",
       "      <td>...</td>\n",
       "      <td>128.360001</td>\n",
       "      <td>124.321220</td>\n",
       "      <td>51.490002</td>\n",
       "      <td>214.039993</td>\n",
       "      <td>3764.709961</td>\n",
       "      <td>109578200</td>\n",
       "      <td>4714740</td>\n",
       "      <td>32092300</td>\n",
       "      <td>27694500</td>\n",
       "      <td>5080870000</td>\n",
       "    </tr>\n",
       "    <tr>\n",
       "      <th>...</th>\n",
       "      <td>...</td>\n",
       "      <td>...</td>\n",
       "      <td>...</td>\n",
       "      <td>...</td>\n",
       "      <td>...</td>\n",
       "      <td>...</td>\n",
       "      <td>...</td>\n",
       "      <td>...</td>\n",
       "      <td>...</td>\n",
       "      <td>...</td>\n",
       "      <td>...</td>\n",
       "      <td>...</td>\n",
       "      <td>...</td>\n",
       "      <td>...</td>\n",
       "      <td>...</td>\n",
       "      <td>...</td>\n",
       "      <td>...</td>\n",
       "      <td>...</td>\n",
       "      <td>...</td>\n",
       "      <td>...</td>\n",
       "      <td>...</td>\n",
       "    </tr>\n",
       "    <tr>\n",
       "      <th>2021-03-26</th>\n",
       "      <td>120.647362</td>\n",
       "      <td>125.795486</td>\n",
       "      <td>63.614262</td>\n",
       "      <td>235.484375</td>\n",
       "      <td>3974.540039</td>\n",
       "      <td>121.209999</td>\n",
       "      <td>130.382416</td>\n",
       "      <td>64.870003</td>\n",
       "      <td>236.479996</td>\n",
       "      <td>3974.540039</td>\n",
       "      <td>...</td>\n",
       "      <td>120.349998</td>\n",
       "      <td>127.428299</td>\n",
       "      <td>61.799999</td>\n",
       "      <td>231.550003</td>\n",
       "      <td>3917.120117</td>\n",
       "      <td>94071200</td>\n",
       "      <td>5823710</td>\n",
       "      <td>34705800</td>\n",
       "      <td>25479900</td>\n",
       "      <td>5467850000</td>\n",
       "    </tr>\n",
       "    <tr>\n",
       "      <th>2021-03-29</th>\n",
       "      <td>120.826523</td>\n",
       "      <td>125.315857</td>\n",
       "      <td>63.251423</td>\n",
       "      <td>234.249619</td>\n",
       "      <td>3971.090088</td>\n",
       "      <td>121.389999</td>\n",
       "      <td>129.885284</td>\n",
       "      <td>64.500000</td>\n",
       "      <td>235.240005</td>\n",
       "      <td>3971.090088</td>\n",
       "      <td>...</td>\n",
       "      <td>121.650002</td>\n",
       "      <td>130.000000</td>\n",
       "      <td>64.010002</td>\n",
       "      <td>236.589996</td>\n",
       "      <td>3969.310059</td>\n",
       "      <td>80819200</td>\n",
       "      <td>4835344</td>\n",
       "      <td>26161600</td>\n",
       "      <td>25227500</td>\n",
       "      <td>4619840000</td>\n",
       "    </tr>\n",
       "    <tr>\n",
       "      <th>2021-03-30</th>\n",
       "      <td>119.343437</td>\n",
       "      <td>124.264320</td>\n",
       "      <td>62.535553</td>\n",
       "      <td>230.873886</td>\n",
       "      <td>3958.550049</td>\n",
       "      <td>119.900002</td>\n",
       "      <td>128.795410</td>\n",
       "      <td>63.770000</td>\n",
       "      <td>231.850006</td>\n",
       "      <td>3958.550049</td>\n",
       "      <td>...</td>\n",
       "      <td>120.110001</td>\n",
       "      <td>129.885284</td>\n",
       "      <td>63.770000</td>\n",
       "      <td>233.529999</td>\n",
       "      <td>3963.340088</td>\n",
       "      <td>85671900</td>\n",
       "      <td>5010758</td>\n",
       "      <td>20709500</td>\n",
       "      <td>24792000</td>\n",
       "      <td>4103570000</td>\n",
       "    </tr>\n",
       "    <tr>\n",
       "      <th>2021-03-31</th>\n",
       "      <td>121.582993</td>\n",
       "      <td>122.917641</td>\n",
       "      <td>62.761101</td>\n",
       "      <td>234.777374</td>\n",
       "      <td>3972.889893</td>\n",
       "      <td>122.150002</td>\n",
       "      <td>127.399620</td>\n",
       "      <td>64.000000</td>\n",
       "      <td>235.770004</td>\n",
       "      <td>3972.889893</td>\n",
       "      <td>...</td>\n",
       "      <td>121.650002</td>\n",
       "      <td>128.623322</td>\n",
       "      <td>64.010002</td>\n",
       "      <td>232.910004</td>\n",
       "      <td>3967.250000</td>\n",
       "      <td>118323800</td>\n",
       "      <td>5172575</td>\n",
       "      <td>33013200</td>\n",
       "      <td>43623500</td>\n",
       "      <td>4564980000</td>\n",
       "    </tr>\n",
       "    <tr>\n",
       "      <th>2021-04-01</th>\n",
       "      <td>122.429047</td>\n",
       "      <td>122.889954</td>\n",
       "      <td>63.300461</td>\n",
       "      <td>241.329681</td>\n",
       "      <td>4019.870117</td>\n",
       "      <td>123.000000</td>\n",
       "      <td>127.370934</td>\n",
       "      <td>64.550003</td>\n",
       "      <td>242.350006</td>\n",
       "      <td>4019.870117</td>\n",
       "      <td>...</td>\n",
       "      <td>123.660004</td>\n",
       "      <td>127.877632</td>\n",
       "      <td>64.720001</td>\n",
       "      <td>238.470001</td>\n",
       "      <td>3992.780029</td>\n",
       "      <td>75089100</td>\n",
       "      <td>4261404</td>\n",
       "      <td>31416300</td>\n",
       "      <td>30338000</td>\n",
       "      <td>4151240000</td>\n",
       "    </tr>\n",
       "  </tbody>\n",
       "</table>\n",
       "<p>63 rows × 30 columns</p>\n",
       "</div>"
      ],
      "text/plain": [
       "             Adj Close                                                  \\\n",
       "                  AAPL         IBM       INTC        MSFT        ^GSPC   \n",
       "Date                                                                     \n",
       "2020-12-31  131.877014  114.579292  48.560837  220.974640  3756.070068   \n",
       "2021-01-04  128.617111  112.813454  48.414623  216.275375  3700.649902   \n",
       "2021-01-05  130.207306  114.815964  49.330868  216.484009  3726.860107   \n",
       "2021-01-06  125.824326  117.683174  49.808479  210.870728  3748.139893   \n",
       "2021-01-07  130.117844  117.410103  50.870930  216.871475  3803.790039   \n",
       "...                ...         ...        ...         ...          ...   \n",
       "2021-03-26  120.647362  125.795486  63.614262  235.484375  3974.540039   \n",
       "2021-03-29  120.826523  125.315857  63.251423  234.249619  3971.090088   \n",
       "2021-03-30  119.343437  124.264320  62.535553  230.873886  3958.550049   \n",
       "2021-03-31  121.582993  122.917641  62.761101  234.777374  3972.889893   \n",
       "2021-04-01  122.429047  122.889954  63.300461  241.329681  4019.870117   \n",
       "\n",
       "                 Close                                                  ...  \\\n",
       "                  AAPL         IBM       INTC        MSFT        ^GSPC  ...   \n",
       "Date                                                                    ...   \n",
       "2020-12-31  132.690002  120.344170  49.820000  222.419998  3756.070068  ...   \n",
       "2021-01-04  129.410004  118.489487  49.669998  217.690002  3700.649902  ...   \n",
       "2021-01-05  131.009995  120.592735  50.610001  217.899994  3726.860107  ...   \n",
       "2021-01-06  126.599998  123.604210  51.099998  212.250000  3748.139893  ...   \n",
       "2021-01-07  130.919998  123.317398  52.189999  218.289993  3803.790039  ...   \n",
       "...                ...         ...        ...         ...          ...  ...   \n",
       "2021-03-26  121.209999  130.382416  64.870003  236.479996  3974.540039  ...   \n",
       "2021-03-29  121.389999  129.885284  64.500000  235.240005  3971.090088  ...   \n",
       "2021-03-30  119.900002  128.795410  63.770000  231.850006  3958.550049  ...   \n",
       "2021-03-31  122.150002  127.399620  64.000000  235.770004  3972.889893  ...   \n",
       "2021-04-01  123.000000  127.370934  64.550003  242.350006  4019.870117  ...   \n",
       "\n",
       "                  Open                                                  \\\n",
       "                  AAPL         IBM       INTC        MSFT        ^GSPC   \n",
       "Date                                                                     \n",
       "2020-12-31  134.080002  118.757172  48.750000  221.699997  3733.270020   \n",
       "2021-01-04  133.520004  120.315491  49.889999  222.529999  3764.610107   \n",
       "2021-01-05  128.889999  119.512428  49.450001  217.259995  3698.020020   \n",
       "2021-01-06  127.720001  121.319313  50.439999  212.169998  3712.199951   \n",
       "2021-01-07  128.360001  124.321220  51.490002  214.039993  3764.709961   \n",
       "...                ...         ...        ...         ...          ...   \n",
       "2021-03-26  120.349998  127.428299  61.799999  231.550003  3917.120117   \n",
       "2021-03-29  121.650002  130.000000  64.010002  236.589996  3969.310059   \n",
       "2021-03-30  120.110001  129.885284  63.770000  233.529999  3963.340088   \n",
       "2021-03-31  121.650002  128.623322  64.010002  232.910004  3967.250000   \n",
       "2021-04-01  123.660004  127.877632  64.720001  238.470001  3992.780029   \n",
       "\n",
       "               Volume                                           \n",
       "                 AAPL      IBM      INTC      MSFT       ^GSPC  \n",
       "Date                                                            \n",
       "2020-12-31   99116600  3738822  28576800  20942100  3172510000  \n",
       "2021-01-04  143301900  5417443  46102500  37130100  5006680000  \n",
       "2021-01-05   97664900  6395872  24866600  23823000  4582620000  \n",
       "2021-01-06  155088000  8322708  36809600  35930700  6049970000  \n",
       "2021-01-07  109578200  4714740  32092300  27694500  5080870000  \n",
       "...               ...      ...       ...       ...         ...  \n",
       "2021-03-26   94071200  5823710  34705800  25479900  5467850000  \n",
       "2021-03-29   80819200  4835344  26161600  25227500  4619840000  \n",
       "2021-03-30   85671900  5010758  20709500  24792000  4103570000  \n",
       "2021-03-31  118323800  5172575  33013200  43623500  4564980000  \n",
       "2021-04-01   75089100  4261404  31416300  30338000  4151240000  \n",
       "\n",
       "[63 rows x 30 columns]"
      ]
     },
     "execution_count": 17,
     "metadata": {},
     "output_type": "execute_result"
    }
   ],
   "source": []
  },
  {
   "cell_type": "code",
   "execution_count": 30,
   "metadata": {},
   "outputs": [
    {
     "data": {
      "image/png": "[encoded data removed]",
      "text/plain": [
       "<Figure size 720x432 with 1 Axes>"
      ]
     },
     "metadata": {},
     "output_type": "display_data"
    },
    {
     "data": {
      "image/png": "[encoded data removed]",
      "text/plain": [
       "<Figure size 720x432 with 1 Axes>"
      ]
     },
     "metadata": {},
     "output_type": "display_data"
    },
    {
     "data": {
      "image/png": "[encoded data removed]",
      "text/plain": [
       "<Figure size 720x432 with 1 Axes>"
      ]
     },
     "metadata": {},
     "output_type": "display_data"
    },
    {
     "data": {
      "image/png": "[encoded data removed]",
      "text/plain": [
       "<Figure size 720x432 with 1 Axes>"
      ]
     },
     "metadata": {},
     "output_type": "display_data"
    },
    {
     "data": {
      "image/png": "[encoded data removed]",
      "text/plain": [
       "<Figure size 720x432 with 1 Axes>"
      ]
     },
     "metadata": {},
     "output_type": "display_data"
    }
   ],
   "source": [
    "start=1\n",
    "for i in stock:\n",
    "    plt.figure(figsize=(10,6))\n",
    "    plt.subplot(5,1,start)\n",
    "    plt.plot(SP_close.loc[:,i])\n",
    "    plt.title(i+' Prices')\n",
    "    plt.ylabel('$')\n",
    "    plt.xlabel('Date')\n",
    "    start=start+1\n",
    "plt.show()"
   ]
  },
  {
   "cell_type": "code",
   "execution_count": 18,
   "metadata": {},
   "outputs": [
    {
     "data": {
      "image/png": "[encoded data removed]",
      "text/plain": [
       "<Figure size 576x396 with 2 Axes>"
      ]
     },
     "metadata": {},
     "output_type": "display_data"
    }
   ],
   "source": [
    "heat_corr = SP_close.corr()\n",
    "sns.heatmap(heat_corr, annot=True)\n",
    "plt.title(\"Correlation Matrix\")\n",
    "plt.show()"
   ]
  },
  {
   "cell_type": "code",
   "execution_count": 48,
   "metadata": {},
   "outputs": [
    {
     "name": "stdout",
     "output_type": "stream",
     "text": [
      "(63, 5)\n",
      "AAPL    -0.049533\n",
      "IBM      0.074956\n",
      "INTC     0.299577\n",
      "MSFT     0.113280\n",
      "^GSPC    0.086261\n",
      "dtype: float64\n"
     ]
    }
   ],
   "source": [
    "InitPrice = SP_close.iloc[1]\n",
    "FinPrice = SP_close.iloc[-1]\n",
    "\n",
    "\n",
    "Returns = (FinPrice - InitPrice)/InitPrice\n",
    "print(Returns)"
   ]
  },
  {
   "cell_type": "code",
   "execution_count": 44,
   "metadata": {},
   "outputs": [],
   "source": [
    "fred = Fred(api_key='1495abd46f514fa909a930eea724eb13')\n",
    "interest=fred.get_series('DGS3MO')"
   ]
  },
  {
   "cell_type": "code",
   "execution_count": null,
   "metadata": {},
   "outputs": [],
   "source": [
    "plt.plot(risk_free_rate)\n",
    "plt.title('3-Month Treasury Constant Maturity Rate')\n",
    "plt.ylabel('%')\n",
    "plt.xlabel('Date')\n",
    "plt.show()"
   ]
  },
  {
   "cell_type": "code",
   "execution_count": 72,
   "metadata": {},
   "outputs": [],
   "source": [
    "risk_free_rate = interest['2020-12-31':'2021-04-02']\n",
    "avg_return = risk_free_rate.mean(skipna=True)"
   ]
  },
  {
   "cell_type": "code",
   "execution_count": 74,
   "metadata": {},
   "outputs": [
    {
     "name": "stdout",
     "output_type": "stream",
     "text": [
      "AAPL    -0.100314\n",
      "IBM      0.024174\n",
      "INTC     0.248796\n",
      "MSFT     0.062499\n",
      "^GSPC    0.035479\n",
      "dtype: float64\n"
     ]
    }
   ],
   "source": [
    "excess_return = Returns - avg_return\n",
    "print(excess_return)"
   ]
  },
  {
   "cell_type": "code",
   "execution_count": 74,
   "metadata": {},
   "outputs": [
    {
     "data": {
      "image/png": "[encoded data removed]",
      "text/plain": [
       "<Figure size 576x396 with 1 Axes>"
      ]
     },
     "metadata": {},
     "output_type": "display_data"
    }
   ],
   "source": []
  },
  {
   "cell_type": "code",
   "execution_count": 87,
   "metadata": {},
   "outputs": [
    {
     "name": "stdout",
     "output_type": "stream",
     "text": [
      "                AAPL       IBM      INTC      MSFT     ^GSPC\n",
      "Date                                                        \n",
      "2021-01-04 -0.024719 -0.015411 -0.003011 -0.021266 -0.014755\n",
      "2021-01-05  0.012364  0.017751  0.018925  0.000965  0.007083\n",
      "2021-01-06 -0.033662  0.024972  0.009682 -0.025929  0.005710\n",
      "2021-01-07  0.034123 -0.002320  0.021331  0.028457  0.014847\n",
      "2021-01-08  0.008631 -0.003566 -0.010347  0.006093  0.005492\n",
      "...              ...       ...       ...       ...       ...\n",
      "2021-03-26  0.005141  0.024874  0.045953  0.017819  0.016631\n",
      "2021-03-29  0.001485 -0.003813 -0.005704 -0.005244 -0.000868\n",
      "2021-03-30 -0.012274 -0.008391 -0.011318 -0.014411 -0.003158\n",
      "2021-03-31  0.018766 -0.010837  0.003607  0.016907  0.003622\n",
      "2021-04-01  0.006959 -0.000225  0.008594  0.027909  0.011825\n",
      "\n",
      "[62 rows x 5 columns]\n"
     ]
    }
   ],
   "source": [
    "\"\"\"Answers from manning\"\"\"\n",
    "returns = SP_close.pct_change()\n",
    "returns.dropna(inplace=True)\n",
    "returns.head()\n",
    "print(returns)"
   ]
  },
  {
   "cell_type": "code",
   "execution_count": 174,
   "metadata": {},
   "outputs": [],
   "source": [
    "rf = risk_free_rate / 90\n",
    "rf = rf.dropna().iloc[:-1]"
   ]
  },
  {
   "cell_type": "code",
   "execution_count": 79,
   "metadata": {},
   "outputs": [
    {
     "data": {
      "image/png": "[encoded data removed]",
      "text/plain": [
       "<Figure size 576x396 with 1 Axes>"
      ]
     },
     "metadata": {},
     "output_type": "display_data"
    }
   ],
   "source": [
    "plt.plot(rf)\n",
    "plt.xlabel('Date')\n",
    "plt.ylabel('%')\n",
    "plt.title('3-Month Treasury Constant Maturity Rate')\n",
    "plt.xticks(rotation=90)\n",
    "plt.show()"
   ]
  },
  {
   "cell_type": "code",
   "execution_count": 90,
   "metadata": {},
   "outputs": [],
   "source": [
    "\"\"\"Excess returns on a daily basis\"\"\"\n",
    "stocks = [\"AAPL\", \"IBM\", \"MSFT\", \"INTC\", \"^GSPC\"]\n",
    "for i in stocks:\n",
    "    returns[\"excess_return_\"+str(i)]=returns[i] - rf"
   ]
  },
  {
   "cell_type": "code",
   "execution_count": 91,
   "metadata": {},
   "outputs": [
    {
     "data": {
      "text/html": [
       "<div>\n",
       "<style scoped>\n",
       "    .dataframe tbody tr th:only-of-type {\n",
       "        vertical-align: middle;\n",
       "    }\n",
       "\n",
       "    .dataframe tbody tr th {\n",
       "        vertical-align: top;\n",
       "    }\n",
       "\n",
       "    .dataframe thead th {\n",
       "        text-align: right;\n",
       "    }\n",
       "</style>\n",
       "<table border=\"1\" class=\"dataframe\">\n",
       "  <thead>\n",
       "    <tr style=\"text-align: right;\">\n",
       "      <th></th>\n",
       "      <th>AAPL</th>\n",
       "      <th>IBM</th>\n",
       "      <th>INTC</th>\n",
       "      <th>MSFT</th>\n",
       "      <th>^GSPC</th>\n",
       "      <th>excess_return_AAPL</th>\n",
       "      <th>excess_return_IBM</th>\n",
       "      <th>excess_return_MSFT</th>\n",
       "      <th>excess_return_INTC</th>\n",
       "      <th>excess_return_^GSPC</th>\n",
       "    </tr>\n",
       "    <tr>\n",
       "      <th>Date</th>\n",
       "      <th></th>\n",
       "      <th></th>\n",
       "      <th></th>\n",
       "      <th></th>\n",
       "      <th></th>\n",
       "      <th></th>\n",
       "      <th></th>\n",
       "      <th></th>\n",
       "      <th></th>\n",
       "      <th></th>\n",
       "    </tr>\n",
       "  </thead>\n",
       "  <tbody>\n",
       "    <tr>\n",
       "      <th>2021-01-04</th>\n",
       "      <td>-0.024719</td>\n",
       "      <td>-0.015411</td>\n",
       "      <td>-0.003011</td>\n",
       "      <td>-0.021266</td>\n",
       "      <td>-0.014755</td>\n",
       "      <td>-0.025719</td>\n",
       "      <td>-0.016411</td>\n",
       "      <td>-0.022266</td>\n",
       "      <td>-0.004011</td>\n",
       "      <td>-0.015755</td>\n",
       "    </tr>\n",
       "    <tr>\n",
       "      <th>2021-01-05</th>\n",
       "      <td>0.012364</td>\n",
       "      <td>0.017751</td>\n",
       "      <td>0.018925</td>\n",
       "      <td>0.000965</td>\n",
       "      <td>0.007083</td>\n",
       "      <td>0.011364</td>\n",
       "      <td>0.016751</td>\n",
       "      <td>-0.000035</td>\n",
       "      <td>0.017925</td>\n",
       "      <td>0.006083</td>\n",
       "    </tr>\n",
       "    <tr>\n",
       "      <th>2021-01-06</th>\n",
       "      <td>-0.033662</td>\n",
       "      <td>0.024972</td>\n",
       "      <td>0.009682</td>\n",
       "      <td>-0.025929</td>\n",
       "      <td>0.005710</td>\n",
       "      <td>-0.034662</td>\n",
       "      <td>0.023972</td>\n",
       "      <td>-0.026929</td>\n",
       "      <td>0.008682</td>\n",
       "      <td>0.004710</td>\n",
       "    </tr>\n",
       "    <tr>\n",
       "      <th>2021-01-07</th>\n",
       "      <td>0.034123</td>\n",
       "      <td>-0.002320</td>\n",
       "      <td>0.021331</td>\n",
       "      <td>0.028457</td>\n",
       "      <td>0.014847</td>\n",
       "      <td>0.033123</td>\n",
       "      <td>-0.003320</td>\n",
       "      <td>0.027457</td>\n",
       "      <td>0.020331</td>\n",
       "      <td>0.013847</td>\n",
       "    </tr>\n",
       "    <tr>\n",
       "      <th>2021-01-08</th>\n",
       "      <td>0.008631</td>\n",
       "      <td>-0.003566</td>\n",
       "      <td>-0.010347</td>\n",
       "      <td>0.006093</td>\n",
       "      <td>0.005492</td>\n",
       "      <td>0.007742</td>\n",
       "      <td>-0.004455</td>\n",
       "      <td>0.005204</td>\n",
       "      <td>-0.011236</td>\n",
       "      <td>0.004603</td>\n",
       "    </tr>\n",
       "  </tbody>\n",
       "</table>\n",
       "</div>"
      ],
      "text/plain": [
       "                AAPL       IBM      INTC      MSFT     ^GSPC  \\\n",
       "Date                                                           \n",
       "2021-01-04 -0.024719 -0.015411 -0.003011 -0.021266 -0.014755   \n",
       "2021-01-05  0.012364  0.017751  0.018925  0.000965  0.007083   \n",
       "2021-01-06 -0.033662  0.024972  0.009682 -0.025929  0.005710   \n",
       "2021-01-07  0.034123 -0.002320  0.021331  0.028457  0.014847   \n",
       "2021-01-08  0.008631 -0.003566 -0.010347  0.006093  0.005492   \n",
       "\n",
       "            excess_return_AAPL  excess_return_IBM  excess_return_MSFT  \\\n",
       "Date                                                                    \n",
       "2021-01-04           -0.025719          -0.016411           -0.022266   \n",
       "2021-01-05            0.011364           0.016751           -0.000035   \n",
       "2021-01-06           -0.034662           0.023972           -0.026929   \n",
       "2021-01-07            0.033123          -0.003320            0.027457   \n",
       "2021-01-08            0.007742          -0.004455            0.005204   \n",
       "\n",
       "            excess_return_INTC  excess_return_^GSPC  \n",
       "Date                                                 \n",
       "2021-01-04           -0.004011            -0.015755  \n",
       "2021-01-05            0.017925             0.006083  \n",
       "2021-01-06            0.008682             0.004710  \n",
       "2021-01-07            0.020331             0.013847  \n",
       "2021-01-08           -0.011236             0.004603  "
      ]
     },
     "execution_count": 91,
     "metadata": {},
     "output_type": "execute_result"
    }
   ],
   "source": [
    "returns.head()"
   ]
  },
  {
   "cell_type": "code",
   "execution_count": 104,
   "metadata": {},
   "outputs": [
    {
     "name": "stdout",
     "output_type": "stream",
     "text": [
      "                                 OLS Regression Results                                \n",
      "=======================================================================================\n",
      "Dep. Variable:                      y   R-squared (uncentered):                   0.505\n",
      "Model:                            OLS   Adj. R-squared (uncentered):              0.454\n",
      "Method:                 Least Squares   F-statistic:                              9.852\n",
      "Date:                Sat, 13 Nov 2021   Prob (F-statistic):                    0.000121\n",
      "Time:                        23:27:49   Log-Likelihood:                         -17.077\n",
      "No. Observations:                  32   AIC:                                      40.15\n",
      "Df Residuals:                      29   BIC:                                      44.55\n",
      "Df Model:                           3                                                  \n",
      "Covariance Type:            nonrobust                                                  \n",
      "==============================================================================\n",
      "                 coef    std err          t      P>|t|      [0.025      0.975]\n",
      "------------------------------------------------------------------------------\n",
      "x1             0.1629      0.137      1.185      0.246      -0.118       0.444\n",
      "x2            -0.0136      0.020     -0.692      0.494      -0.054       0.027\n",
      "x3             0.3650      0.155      2.349      0.026       0.047       0.683\n",
      "==============================================================================\n",
      "Omnibus:                        3.670   Durbin-Watson:                   2.488\n",
      "Prob(Omnibus):                  0.160   Jarque-Bera (JB):                2.422\n",
      "Skew:                           0.484   Prob(JB):                        0.298\n",
      "Kurtosis:                       2.062   Cond. No.                         45.6\n",
      "==============================================================================\n",
      "\n",
      "Notes:\n",
      "[1] R² is computed without centering (uncentered) since the model does not contain a constant.\n",
      "[2] Standard Errors assume that the covariance matrix of the errors is correctly specified.\n"
     ]
    }
   ],
   "source": [
    "\"\"\"Regress each stock against SPY to get the betas\"\"\"\n",
    "import numpy as np\n",
    "import statsmodels.api as sm\n",
    "mod = sm.OLS(spector_data.endog, spector_data.exog)\n",
    "res = mod.fit()\n",
    "print(res.summary())\n"
   ]
  },
  {
   "cell_type": "code",
   "execution_count": 138,
   "metadata": {},
   "outputs": [],
   "source": [
    "X = returns['excess_return_^GSPC']\n",
    "AAPL = returns[\"excess_return_AAPL\"]"
   ]
  },
  {
   "cell_type": "code",
   "execution_count": 140,
   "metadata": {},
   "outputs": [
    {
     "data": {
      "text/html": [
       "<table class=\"simpletable\">\n",
       "<caption>OLS Regression Results</caption>\n",
       "<tr>\n",
       "  <th>Dep. Variable:</th>    <td>excess_return_AAPL</td> <th>  R-squared (uncentered):</th>      <td>   0.432</td>\n",
       "</tr>\n",
       "<tr>\n",
       "  <th>Model:</th>                    <td>OLS</td>        <th>  Adj. R-squared (uncentered):</th> <td>   0.422</td>\n",
       "</tr>\n",
       "<tr>\n",
       "  <th>Method:</th>              <td>Least Squares</td>   <th>  F-statistic:       </th>          <td>   46.32</td>\n",
       "</tr>\n",
       "<tr>\n",
       "  <th>Date:</th>              <td>Sat, 13 Nov 2021</td>  <th>  Prob (F-statistic):</th>          <td>4.99e-09</td>\n",
       "</tr>\n",
       "<tr>\n",
       "  <th>Time:</th>                  <td>23:40:24</td>      <th>  Log-Likelihood:    </th>          <td>  170.22</td>\n",
       "</tr>\n",
       "<tr>\n",
       "  <th>No. Observations:</th>       <td>    62</td>       <th>  AIC:               </th>          <td>  -338.4</td>\n",
       "</tr>\n",
       "<tr>\n",
       "  <th>Df Residuals:</th>           <td>    61</td>       <th>  BIC:               </th>          <td>  -336.3</td>\n",
       "</tr>\n",
       "<tr>\n",
       "  <th>Df Model:</th>               <td>     1</td>       <th>                     </th>              <td> </td>   \n",
       "</tr>\n",
       "<tr>\n",
       "  <th>Covariance Type:</th>       <td>nonrobust</td>     <th>                     </th>              <td> </td>   \n",
       "</tr>\n",
       "</table>\n",
       "<table class=\"simpletable\">\n",
       "<tr>\n",
       "           <td></td>              <th>coef</th>     <th>std err</th>      <th>t</th>      <th>P>|t|</th>  <th>[0.025</th>    <th>0.975]</th>  \n",
       "</tr>\n",
       "<tr>\n",
       "  <th>excess_return_^GSPC</th> <td>    1.3623</td> <td>    0.200</td> <td>    6.806</td> <td> 0.000</td> <td>    0.962</td> <td>    1.763</td>\n",
       "</tr>\n",
       "</table>\n",
       "<table class=\"simpletable\">\n",
       "<tr>\n",
       "  <th>Omnibus:</th>       <td> 2.676</td> <th>  Durbin-Watson:     </th> <td>   1.982</td>\n",
       "</tr>\n",
       "<tr>\n",
       "  <th>Prob(Omnibus):</th> <td> 0.262</td> <th>  Jarque-Bera (JB):  </th> <td>   2.073</td>\n",
       "</tr>\n",
       "<tr>\n",
       "  <th>Skew:</th>          <td>-0.145</td> <th>  Prob(JB):          </th> <td>   0.355</td>\n",
       "</tr>\n",
       "<tr>\n",
       "  <th>Kurtosis:</th>      <td> 3.848</td> <th>  Cond. No.          </th> <td>    1.00</td>\n",
       "</tr>\n",
       "</table><br/><br/>Notes:<br/>[1] R² is computed without centering (uncentered) since the model does not contain a constant.<br/>[2] Standard Errors assume that the covariance matrix of the errors is correctly specified."
      ],
      "text/plain": [
       "<class 'statsmodels.iolib.summary.Summary'>\n",
       "\"\"\"\n",
       "                                 OLS Regression Results                                \n",
       "=======================================================================================\n",
       "Dep. Variable:     excess_return_AAPL   R-squared (uncentered):                   0.432\n",
       "Model:                            OLS   Adj. R-squared (uncentered):              0.422\n",
       "Method:                 Least Squares   F-statistic:                              46.32\n",
       "Date:                Sat, 13 Nov 2021   Prob (F-statistic):                    4.99e-09\n",
       "Time:                        23:40:24   Log-Likelihood:                          170.22\n",
       "No. Observations:                  62   AIC:                                     -338.4\n",
       "Df Residuals:                      61   BIC:                                     -336.3\n",
       "Df Model:                           1                                                  \n",
       "Covariance Type:            nonrobust                                                  \n",
       "=======================================================================================\n",
       "                          coef    std err          t      P>|t|      [0.025      0.975]\n",
       "---------------------------------------------------------------------------------------\n",
       "excess_return_^GSPC     1.3623      0.200      6.806      0.000       0.962       1.763\n",
       "==============================================================================\n",
       "Omnibus:                        2.676   Durbin-Watson:                   1.982\n",
       "Prob(Omnibus):                  0.262   Jarque-Bera (JB):                2.073\n",
       "Skew:                          -0.145   Prob(JB):                        0.355\n",
       "Kurtosis:                       3.848   Cond. No.                         1.00\n",
       "==============================================================================\n",
       "\n",
       "Notes:\n",
       "[1] R² is computed without centering (uncentered) since the model does not contain a constant.\n",
       "[2] Standard Errors assume that the covariance matrix of the errors is correctly specified.\n",
       "\"\"\""
      ]
     },
     "execution_count": 140,
     "metadata": {},
     "output_type": "execute_result"
    }
   ],
   "source": [
    "mod = sm.OLS(AAPL, X)\n",
    "res = mod.fit()\n",
    "res.summary()"
   ]
  },
  {
   "cell_type": "code",
   "execution_count": 219,
   "metadata": {},
   "outputs": [],
   "source": [
    "stockies = stocks[0:4]\n",
    "Re = []\n",
    "Realized = []\n",
    "betas = []\n",
    "for i in stockies:\n",
    "    gainz = returns[i]\n",
    "    inputs = sm.add_constant(X, prepend=False)\n",
    "    mod = sm.OLS(gainz,inputs)\n",
    "    res = mod.fit()\n",
    "    betas.append(res.params[0])\n",
    "    beta = res.params[0]\n",
    "    er = beta*spy + rf\n",
    "    Re.append(er.mean(skipna=True))\n",
    "    Realized.append(gainz.mean(skipna=True))"
   ]
  },
  {
   "cell_type": "code",
   "execution_count": 198,
   "metadata": {},
   "outputs": [
    {
     "name": "stdout",
     "output_type": "stream",
     "text": [
      "[0.0021383535703045995, 0.0010943995030744853, 0.0018073297272309735, 0.0025122382137191452]\n",
      "[-0.001010821570646928, 0.0010851553444961724, 0.0015127127697716642, 0.004567429548707527]\n"
     ]
    }
   ],
   "source": [
    "print(Re)\n",
    "print(Realized)\n"
   ]
  },
  {
   "cell_type": "code",
   "execution_count": 213,
   "metadata": {},
   "outputs": [],
   "source": [
    "value = []\n",
    "for i in range(len(Re)):\n",
    "    value.append( Realized[i] - Re[i])"
   ]
  },
  {
   "cell_type": "code",
   "execution_count": 216,
   "metadata": {},
   "outputs": [
    {
     "name": "stdout",
     "output_type": "stream",
     "text": [
      "[-0.0031491751409515275, -9.244158578312857e-06, -0.00029461695745930925, 0.0020551913349883817]\n"
     ]
    }
   ],
   "source": [
    "print(value)"
   ]
  },
  {
   "cell_type": "code",
   "execution_count": 220,
   "metadata": {},
   "outputs": [
    {
     "data": {
      "text/plain": [
       "[1.3764152793666633,\n",
       " 0.46445324891972084,\n",
       " 1.0872443421273035,\n",
       " 1.703027923796452]"
      ]
     },
     "execution_count": 220,
     "metadata": {},
     "output_type": "execute_result"
    }
   ],
   "source": [
    "betas"
   ]
  },
  {
   "cell_type": "code",
   "execution_count": 235,
   "metadata": {},
   "outputs": [],
   "source": [
    "b2 = []\n",
    "for i in betas:\n",
    "    b2.append(float(i)) \n",
    "    \n",
    "Re2 = []\n",
    "for i in Realized:\n",
    "    Re2.append(float(i))"
   ]
  },
  {
   "cell_type": "code",
   "execution_count": 248,
   "metadata": {},
   "outputs": [],
   "source": [
    "import requests\n",
    "from io import StringIO\n",
    "import pandas as pd\n",
    "import numpy as np\n",
    "import matplotlib.pyplot as plt\n",
    "import seaborn as sns\n",
    "import statsmodels.api as sm\n",
    "from fredapi import Fred"
   ]
  },
  {
   "cell_type": "code",
   "execution_count": 247,
   "metadata": {},
   "outputs": [],
   "source": [
    "\"\"\" Arbitrage Pricing Theory section\"\"\"\n",
    "fred = Fred(api_key='1495abd46f514fa909a930eea724eb13')\n",
    "industry_production=fred.get_series('INDPRO')\n",
    "riskfree = fred.get_series(\"GS1\")\n",
    "inflation = fred.get_series(\"CPIEALL\")"
   ]
  },
  {
   "cell_type": "code",
   "execution_count": null,
   "metadata": {},
   "outputs": [],
   "source": [
    "stock = ['FB','AAPL','MSFT','INTC','IBM']\n",
    "start = datetime.datetime(2020,12,31)\n",
    "end = datetime.datetime(2021,4,2)\n",
    "SP = yf.download(stock,start=start,end = end, interval='1d')\n",
    "SP_close=SP['Close']\n",
    "SP"
   ]
  },
  {
   "cell_type": "code",
   "execution_count": 249,
   "metadata": {},
   "outputs": [],
   "source": [
    "def getMonthlyData(symbol):\n",
    "        parameters = {'function': 'TIME_SERIES_MONTHLY_ADJUSTED', 'symbol': symbol,\n",
    "                       'outputsize':'full',\n",
    "                       'datatype': 'csv', \n",
    "                       'apikey': 'LL1WA15IW41XV2T2'}\n",
    "\n",
    "        response = requests.get('https://www.alphavantage.co/query', params=parameters)\n",
    "\n",
    "        # Process the CSV file retrieved\n",
    "        csvText = StringIO(response.text)\n",
    "        data = pd.read_csv(csvText, index_col='timestamp')\n",
    "        return data"
   ]
  },
  {
   "cell_type": "code",
   "execution_count": 275,
   "metadata": {},
   "outputs": [],
   "source": [
    "FB = getMonthlyData('FB')[::-1]['close']['2015-01-01':'2021-05-01']\n",
    "TWTR = getMonthlyData('TWTR')[::-1]['close']['2015-01-01':'2021-05-01']\n",
    "SPY = getMonthlyData(\"SPY\")[::-1]['close']['2015-01-01':'2021-05-01']"
   ]
  },
  {
   "cell_type": "code",
   "execution_count": 280,
   "metadata": {},
   "outputs": [],
   "source": [
    "tickers= [\"TWTR\", \"FB\", \"SPY\"]\n",
    "df=[]\n",
    "for i in tickers:\n",
    "    df.append(getMonthlyData(i)[::-1]['close']['2015-01-01':'2021-05-01'])\n",
    "stocks=pd.DataFrame(df).T\n",
    "stocks.columns=tickers"
   ]
  },
  {
   "cell_type": "code",
   "execution_count": 354,
   "metadata": {},
   "outputs": [],
   "source": [
    "inflat =  inflation['2015-01-01':'2021-05-01']\n",
    "ind_prod = industry_production['2015-01-01':'2021-05-01']\n",
    "rf = riskfree['2015-01-01':'2021-05-01']"
   ]
  },
  {
   "cell_type": "code",
   "execution_count": 375,
   "metadata": {},
   "outputs": [
    {
     "data": {
      "text/plain": [
       "Date\n",
       "2015-01-01    0.20\n",
       "2015-02-01    0.22\n",
       "2015-03-01    0.25\n",
       "2015-04-01    0.23\n",
       "2015-05-01    0.24\n",
       "              ... \n",
       "2021-01-01    0.10\n",
       "2021-02-01    0.07\n",
       "2021-03-01    0.08\n",
       "2021-04-01    0.06\n",
       "2021-05-01    0.05\n",
       "Length: 77, dtype: float64"
      ]
     },
     "execution_count": 375,
     "metadata": {},
     "output_type": "execute_result"
    }
   ],
   "source": [
    "rf"
   ]
  },
  {
   "cell_type": "code",
   "execution_count": 366,
   "metadata": {},
   "outputs": [],
   "source": [
    "inf_rate = inflat.pct_change().dropna()\n",
    "rfrate = rf/12\n",
    "log_ind = np.log(ind_prod)"
   ]
  },
  {
   "cell_type": "code",
   "execution_count": 378,
   "metadata": {},
   "outputs": [
    {
     "data": {
      "text/plain": [
       "Date\n",
       "2015-01-01    0.016667\n",
       "2015-02-01    0.018333\n",
       "2015-03-01    0.020833\n",
       "2015-04-01    0.019167\n",
       "2015-05-01    0.020000\n",
       "                ...   \n",
       "2021-01-01    0.008333\n",
       "2021-02-01    0.005833\n",
       "2021-03-01    0.006667\n",
       "2021-04-01    0.005000\n",
       "2021-05-01    0.004167\n",
       "Length: 77, dtype: float64"
      ]
     },
     "execution_count": 378,
     "metadata": {},
     "output_type": "execute_result"
    }
   ],
   "source": [
    "rfrate"
   ]
  },
  {
   "cell_type": "code",
   "execution_count": 371,
   "metadata": {},
   "outputs": [],
   "source": [
    "log_ind.index.names = ['Date']\n",
    "inf_rate.index.names = ['Date']\n",
    "rfrate.index.names = ['Date']"
   ]
  },
  {
   "cell_type": "code",
   "execution_count": 291,
   "metadata": {},
   "outputs": [
    {
     "data": {
      "image/png": "[encoded data removed]",
      "text/plain": [
       "<Figure size 576x396 with 2 Axes>"
      ]
     },
     "metadata": {},
     "output_type": "display_data"
    }
   ],
   "source": [
    "heat_corr = stocks[1:].corr()\n",
    "sns.heatmap(heat_corr, annot=True)\n",
    "plt.title(\"Correlation Matrix\")\n",
    "plt.show()"
   ]
  },
  {
   "cell_type": "code",
   "execution_count": 344,
   "metadata": {},
   "outputs": [
    {
     "name": "stdout",
     "output_type": "stream",
     "text": [
      "                TWTR        FB       SPY\n",
      "timestamp                               \n",
      "2015-02-27  0.281108  0.040311  0.056205\n",
      "2015-03-31  0.041597  0.041092 -0.020080\n",
      "2015-04-30 -0.222045 -0.041902  0.009834\n",
      "2015-05-29 -0.058778  0.005332  0.012856\n",
      "2015-06-30 -0.012272  0.083028 -0.024865\n",
      "...              ...       ...       ...\n",
      "2020-12-31  0.164266 -0.013756  0.032647\n",
      "2021-01-29 -0.066851 -0.054291 -0.010190\n",
      "2021-02-26  0.525035 -0.002748  0.027806\n",
      "2021-03-31 -0.174280  0.143273  0.041987\n",
      "2021-04-30 -0.132170  0.103725  0.052910\n",
      "\n",
      "[75 rows x 3 columns]\n"
     ]
    }
   ],
   "source": [
    "\"\"\"Calculate the monthly returns\"\"\"\n",
    "returns = stocks.pct_change()\n",
    "returns.dropna(inplace=True)\n",
    "returns.head()\n",
    "print(returns)"
   ]
  },
  {
   "cell_type": "code",
   "execution_count": 372,
   "metadata": {},
   "outputs": [],
   "source": [
    "inf = inf_rate.iloc[1:]\n",
    "ind = log_ind.iloc[2:]\n",
    "rfree = rfrate.iloc[2:]"
   ]
  },
  {
   "cell_type": "code",
   "execution_count": 373,
   "metadata": {},
   "outputs": [],
   "source": [
    "inf.index = returns.index\n",
    "ind.index = returns.index\n",
    "rfree.index = returns.index\n",
    "\n",
    "apt_df = pd.concat([returns, inf, ind, rfree], axis=1)\n",
    "apt_df.columns = ['TWTR', 'FB', 'SPY', 'inf_rate', 'log_ind', 'risk_free']"
   ]
  },
  {
   "cell_type": "code",
   "execution_count": 374,
   "metadata": {},
   "outputs": [
    {
     "data": {
      "text/html": [
       "<div>\n",
       "<style scoped>\n",
       "    .dataframe tbody tr th:only-of-type {\n",
       "        vertical-align: middle;\n",
       "    }\n",
       "\n",
       "    .dataframe tbody tr th {\n",
       "        vertical-align: top;\n",
       "    }\n",
       "\n",
       "    .dataframe thead th {\n",
       "        text-align: right;\n",
       "    }\n",
       "</style>\n",
       "<table border=\"1\" class=\"dataframe\">\n",
       "  <thead>\n",
       "    <tr style=\"text-align: right;\">\n",
       "      <th></th>\n",
       "      <th>TWTR</th>\n",
       "      <th>FB</th>\n",
       "      <th>SPY</th>\n",
       "      <th>inf_rate</th>\n",
       "      <th>log_ind</th>\n",
       "      <th>risk_free</th>\n",
       "    </tr>\n",
       "    <tr>\n",
       "      <th>timestamp</th>\n",
       "      <th></th>\n",
       "      <th></th>\n",
       "      <th></th>\n",
       "      <th></th>\n",
       "      <th></th>\n",
       "      <th></th>\n",
       "    </tr>\n",
       "  </thead>\n",
       "  <tbody>\n",
       "    <tr>\n",
       "      <th>2015-02-27</th>\n",
       "      <td>0.281108</td>\n",
       "      <td>0.040311</td>\n",
       "      <td>0.056205</td>\n",
       "      <td>0.004887</td>\n",
       "      <td>4.623938</td>\n",
       "      <td>0.020833</td>\n",
       "    </tr>\n",
       "    <tr>\n",
       "      <th>2015-03-31</th>\n",
       "      <td>0.041597</td>\n",
       "      <td>0.041092</td>\n",
       "      <td>-0.020080</td>\n",
       "      <td>0.002175</td>\n",
       "      <td>4.617947</td>\n",
       "      <td>0.019167</td>\n",
       "    </tr>\n",
       "    <tr>\n",
       "      <th>2015-04-30</th>\n",
       "      <td>-0.222045</td>\n",
       "      <td>-0.041902</td>\n",
       "      <td>0.009834</td>\n",
       "      <td>0.004177</td>\n",
       "      <td>4.613543</td>\n",
       "      <td>0.020000</td>\n",
       "    </tr>\n",
       "    <tr>\n",
       "      <th>2015-05-29</th>\n",
       "      <td>-0.058778</td>\n",
       "      <td>0.005332</td>\n",
       "      <td>0.012856</td>\n",
       "      <td>0.003744</td>\n",
       "      <td>4.610220</td>\n",
       "      <td>0.023333</td>\n",
       "    </tr>\n",
       "    <tr>\n",
       "      <th>2015-06-30</th>\n",
       "      <td>-0.012272</td>\n",
       "      <td>0.083028</td>\n",
       "      <td>-0.024865</td>\n",
       "      <td>0.000383</td>\n",
       "      <td>4.616932</td>\n",
       "      <td>0.025000</td>\n",
       "    </tr>\n",
       "    <tr>\n",
       "      <th>...</th>\n",
       "      <td>...</td>\n",
       "      <td>...</td>\n",
       "      <td>...</td>\n",
       "      <td>...</td>\n",
       "      <td>...</td>\n",
       "      <td>...</td>\n",
       "    </tr>\n",
       "    <tr>\n",
       "      <th>2020-12-31</th>\n",
       "      <td>0.164266</td>\n",
       "      <td>-0.013756</td>\n",
       "      <td>0.032647</td>\n",
       "      <td>0.004240</td>\n",
       "      <td>4.599229</td>\n",
       "      <td>0.008333</td>\n",
       "    </tr>\n",
       "    <tr>\n",
       "      <th>2021-01-29</th>\n",
       "      <td>-0.066851</td>\n",
       "      <td>-0.054291</td>\n",
       "      <td>-0.010190</td>\n",
       "      <td>0.005315</td>\n",
       "      <td>4.568471</td>\n",
       "      <td>0.005833</td>\n",
       "    </tr>\n",
       "    <tr>\n",
       "      <th>2021-02-26</th>\n",
       "      <td>0.525035</td>\n",
       "      <td>-0.002748</td>\n",
       "      <td>0.027806</td>\n",
       "      <td>0.006228</td>\n",
       "      <td>4.596753</td>\n",
       "      <td>0.006667</td>\n",
       "    </tr>\n",
       "    <tr>\n",
       "      <th>2021-03-31</th>\n",
       "      <td>-0.174280</td>\n",
       "      <td>0.143273</td>\n",
       "      <td>0.041987</td>\n",
       "      <td>0.006975</td>\n",
       "      <td>4.597557</td>\n",
       "      <td>0.005000</td>\n",
       "    </tr>\n",
       "    <tr>\n",
       "      <th>2021-04-30</th>\n",
       "      <td>-0.132170</td>\n",
       "      <td>0.103725</td>\n",
       "      <td>0.052910</td>\n",
       "      <td>0.006944</td>\n",
       "      <td>4.604428</td>\n",
       "      <td>0.004167</td>\n",
       "    </tr>\n",
       "  </tbody>\n",
       "</table>\n",
       "<p>75 rows × 6 columns</p>\n",
       "</div>"
      ],
      "text/plain": [
       "                TWTR        FB       SPY  inf_rate   log_ind  risk_free\n",
       "timestamp                                                              \n",
       "2015-02-27  0.281108  0.040311  0.056205  0.004887  4.623938   0.020833\n",
       "2015-03-31  0.041597  0.041092 -0.020080  0.002175  4.617947   0.019167\n",
       "2015-04-30 -0.222045 -0.041902  0.009834  0.004177  4.613543   0.020000\n",
       "2015-05-29 -0.058778  0.005332  0.012856  0.003744  4.610220   0.023333\n",
       "2015-06-30 -0.012272  0.083028 -0.024865  0.000383  4.616932   0.025000\n",
       "...              ...       ...       ...       ...       ...        ...\n",
       "2020-12-31  0.164266 -0.013756  0.032647  0.004240  4.599229   0.008333\n",
       "2021-01-29 -0.066851 -0.054291 -0.010190  0.005315  4.568471   0.005833\n",
       "2021-02-26  0.525035 -0.002748  0.027806  0.006228  4.596753   0.006667\n",
       "2021-03-31 -0.174280  0.143273  0.041987  0.006975  4.597557   0.005000\n",
       "2021-04-30 -0.132170  0.103725  0.052910  0.006944  4.604428   0.004167\n",
       "\n",
       "[75 rows x 6 columns]"
      ]
     },
     "execution_count": 374,
     "metadata": {},
     "output_type": "execute_result"
    }
   ],
   "source": [
    "apt_df"
   ]
  },
  {
   "cell_type": "code",
   "execution_count": 380,
   "metadata": {},
   "outputs": [
    {
     "data": {
      "image/png": "[encoded data removed]",
      "text/plain": [
       "<Figure size 576x396 with 2 Axes>"
      ]
     },
     "metadata": {},
     "output_type": "display_data"
    }
   ],
   "source": [
    "heat_corr = apt_df[1:].corr()\n",
    "sns.heatmap(heat_corr, annot=True)\n",
    "plt.title(\"Correlation Matrix\")\n",
    "plt.show()"
   ]
  },
  {
   "cell_type": "code",
   "execution_count": 390,
   "metadata": {},
   "outputs": [],
   "source": [
    "apt_df['excess_twtr']= apt_df[tickers[0]] - apt_df['risk_free']\n",
    "apt_df['excess_fb']= apt_df[tickers[1]] - apt_df['risk_free']\n",
    "apt_df['excess_market']= apt_df[tickers[2]] - apt_df['risk_free']"
   ]
  },
  {
   "cell_type": "code",
   "execution_count": 391,
   "metadata": {},
   "outputs": [
    {
     "data": {
      "text/html": [
       "<div>\n",
       "<style scoped>\n",
       "    .dataframe tbody tr th:only-of-type {\n",
       "        vertical-align: middle;\n",
       "    }\n",
       "\n",
       "    .dataframe tbody tr th {\n",
       "        vertical-align: top;\n",
       "    }\n",
       "\n",
       "    .dataframe thead th {\n",
       "        text-align: right;\n",
       "    }\n",
       "</style>\n",
       "<table border=\"1\" class=\"dataframe\">\n",
       "  <thead>\n",
       "    <tr style=\"text-align: right;\">\n",
       "      <th></th>\n",
       "      <th>TWTR</th>\n",
       "      <th>FB</th>\n",
       "      <th>SPY</th>\n",
       "      <th>inf_rate</th>\n",
       "      <th>log_ind</th>\n",
       "      <th>risk_free</th>\n",
       "      <th>excess_twtr</th>\n",
       "      <th>excess_fb</th>\n",
       "      <th>excess_market</th>\n",
       "    </tr>\n",
       "    <tr>\n",
       "      <th>timestamp</th>\n",
       "      <th></th>\n",
       "      <th></th>\n",
       "      <th></th>\n",
       "      <th></th>\n",
       "      <th></th>\n",
       "      <th></th>\n",
       "      <th></th>\n",
       "      <th></th>\n",
       "      <th></th>\n",
       "    </tr>\n",
       "  </thead>\n",
       "  <tbody>\n",
       "    <tr>\n",
       "      <th>2015-02-27</th>\n",
       "      <td>0.281108</td>\n",
       "      <td>0.040311</td>\n",
       "      <td>0.056205</td>\n",
       "      <td>0.004887</td>\n",
       "      <td>4.623938</td>\n",
       "      <td>0.020833</td>\n",
       "      <td>0.260275</td>\n",
       "      <td>0.019478</td>\n",
       "      <td>0.035371</td>\n",
       "    </tr>\n",
       "    <tr>\n",
       "      <th>2015-03-31</th>\n",
       "      <td>0.041597</td>\n",
       "      <td>0.041092</td>\n",
       "      <td>-0.020080</td>\n",
       "      <td>0.002175</td>\n",
       "      <td>4.617947</td>\n",
       "      <td>0.019167</td>\n",
       "      <td>0.022431</td>\n",
       "      <td>0.021925</td>\n",
       "      <td>-0.039246</td>\n",
       "    </tr>\n",
       "    <tr>\n",
       "      <th>2015-04-30</th>\n",
       "      <td>-0.222045</td>\n",
       "      <td>-0.041902</td>\n",
       "      <td>0.009834</td>\n",
       "      <td>0.004177</td>\n",
       "      <td>4.613543</td>\n",
       "      <td>0.020000</td>\n",
       "      <td>-0.242045</td>\n",
       "      <td>-0.061902</td>\n",
       "      <td>-0.010166</td>\n",
       "    </tr>\n",
       "    <tr>\n",
       "      <th>2015-05-29</th>\n",
       "      <td>-0.058778</td>\n",
       "      <td>0.005332</td>\n",
       "      <td>0.012856</td>\n",
       "      <td>0.003744</td>\n",
       "      <td>4.610220</td>\n",
       "      <td>0.023333</td>\n",
       "      <td>-0.082112</td>\n",
       "      <td>-0.018001</td>\n",
       "      <td>-0.010477</td>\n",
       "    </tr>\n",
       "    <tr>\n",
       "      <th>2015-06-30</th>\n",
       "      <td>-0.012272</td>\n",
       "      <td>0.083028</td>\n",
       "      <td>-0.024865</td>\n",
       "      <td>0.000383</td>\n",
       "      <td>4.616932</td>\n",
       "      <td>0.025000</td>\n",
       "      <td>-0.037272</td>\n",
       "      <td>0.058028</td>\n",
       "      <td>-0.049865</td>\n",
       "    </tr>\n",
       "    <tr>\n",
       "      <th>...</th>\n",
       "      <td>...</td>\n",
       "      <td>...</td>\n",
       "      <td>...</td>\n",
       "      <td>...</td>\n",
       "      <td>...</td>\n",
       "      <td>...</td>\n",
       "      <td>...</td>\n",
       "      <td>...</td>\n",
       "      <td>...</td>\n",
       "    </tr>\n",
       "    <tr>\n",
       "      <th>2020-12-31</th>\n",
       "      <td>0.164266</td>\n",
       "      <td>-0.013756</td>\n",
       "      <td>0.032647</td>\n",
       "      <td>0.004240</td>\n",
       "      <td>4.599229</td>\n",
       "      <td>0.008333</td>\n",
       "      <td>0.155932</td>\n",
       "      <td>-0.022089</td>\n",
       "      <td>0.024313</td>\n",
       "    </tr>\n",
       "    <tr>\n",
       "      <th>2021-01-29</th>\n",
       "      <td>-0.066851</td>\n",
       "      <td>-0.054291</td>\n",
       "      <td>-0.010190</td>\n",
       "      <td>0.005315</td>\n",
       "      <td>4.568471</td>\n",
       "      <td>0.005833</td>\n",
       "      <td>-0.072685</td>\n",
       "      <td>-0.060124</td>\n",
       "      <td>-0.016024</td>\n",
       "    </tr>\n",
       "    <tr>\n",
       "      <th>2021-02-26</th>\n",
       "      <td>0.525035</td>\n",
       "      <td>-0.002748</td>\n",
       "      <td>0.027806</td>\n",
       "      <td>0.006228</td>\n",
       "      <td>4.596753</td>\n",
       "      <td>0.006667</td>\n",
       "      <td>0.518368</td>\n",
       "      <td>-0.009415</td>\n",
       "      <td>0.021139</td>\n",
       "    </tr>\n",
       "    <tr>\n",
       "      <th>2021-03-31</th>\n",
       "      <td>-0.174280</td>\n",
       "      <td>0.143273</td>\n",
       "      <td>0.041987</td>\n",
       "      <td>0.006975</td>\n",
       "      <td>4.597557</td>\n",
       "      <td>0.005000</td>\n",
       "      <td>-0.179280</td>\n",
       "      <td>0.138273</td>\n",
       "      <td>0.036987</td>\n",
       "    </tr>\n",
       "    <tr>\n",
       "      <th>2021-04-30</th>\n",
       "      <td>-0.132170</td>\n",
       "      <td>0.103725</td>\n",
       "      <td>0.052910</td>\n",
       "      <td>0.006944</td>\n",
       "      <td>4.604428</td>\n",
       "      <td>0.004167</td>\n",
       "      <td>-0.136337</td>\n",
       "      <td>0.099558</td>\n",
       "      <td>0.048744</td>\n",
       "    </tr>\n",
       "  </tbody>\n",
       "</table>\n",
       "<p>75 rows × 9 columns</p>\n",
       "</div>"
      ],
      "text/plain": [
       "                TWTR        FB       SPY  inf_rate   log_ind  risk_free  \\\n",
       "timestamp                                                                 \n",
       "2015-02-27  0.281108  0.040311  0.056205  0.004887  4.623938   0.020833   \n",
       "2015-03-31  0.041597  0.041092 -0.020080  0.002175  4.617947   0.019167   \n",
       "2015-04-30 -0.222045 -0.041902  0.009834  0.004177  4.613543   0.020000   \n",
       "2015-05-29 -0.058778  0.005332  0.012856  0.003744  4.610220   0.023333   \n",
       "2015-06-30 -0.012272  0.083028 -0.024865  0.000383  4.616932   0.025000   \n",
       "...              ...       ...       ...       ...       ...        ...   \n",
       "2020-12-31  0.164266 -0.013756  0.032647  0.004240  4.599229   0.008333   \n",
       "2021-01-29 -0.066851 -0.054291 -0.010190  0.005315  4.568471   0.005833   \n",
       "2021-02-26  0.525035 -0.002748  0.027806  0.006228  4.596753   0.006667   \n",
       "2021-03-31 -0.174280  0.143273  0.041987  0.006975  4.597557   0.005000   \n",
       "2021-04-30 -0.132170  0.103725  0.052910  0.006944  4.604428   0.004167   \n",
       "\n",
       "            excess_twtr  excess_fb  excess_market  \n",
       "timestamp                                          \n",
       "2015-02-27     0.260275   0.019478       0.035371  \n",
       "2015-03-31     0.022431   0.021925      -0.039246  \n",
       "2015-04-30    -0.242045  -0.061902      -0.010166  \n",
       "2015-05-29    -0.082112  -0.018001      -0.010477  \n",
       "2015-06-30    -0.037272   0.058028      -0.049865  \n",
       "...                 ...        ...            ...  \n",
       "2020-12-31     0.155932  -0.022089       0.024313  \n",
       "2021-01-29    -0.072685  -0.060124      -0.016024  \n",
       "2021-02-26     0.518368  -0.009415       0.021139  \n",
       "2021-03-31    -0.179280   0.138273       0.036987  \n",
       "2021-04-30    -0.136337   0.099558       0.048744  \n",
       "\n",
       "[75 rows x 9 columns]"
      ]
     },
     "execution_count": 391,
     "metadata": {},
     "output_type": "execute_result"
    }
   ],
   "source": [
    "apt_df"
   ]
  }
 ],
 "metadata": {
  "kernelspec": {
   "display_name": "Python 3",
   "language": "python",
   "name": "python3"
  },
  "language_info": {
   "codemirror_mode": {
    "name": "ipython",
    "version": 3
   },
   "file_extension": ".py",
   "mimetype": "text/x-python",
   "name": "python",
   "nbconvert_exporter": "python",
   "pygments_lexer": "ipython3",
   "version": "3.8.5"
  }
 },
 "nbformat": 4,
 "nbformat_minor": 4
}
